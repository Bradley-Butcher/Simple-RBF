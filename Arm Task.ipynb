{
 "cells": [
  {
   "cell_type": "markdown",
   "metadata": {},
   "source": [
    "### Arm Take-Home Exercise\n",
    "We will begin by importing the various libraries which will be needed for the task:\n",
    "- Pandas, a library for data manipulation/analysis with built in CSV loading methods\n",
    "- Matplotlib, a plotting library\n",
    "- Numpy, a scientific computing package\n",
    "\n",
    "Following this, the csvs are then read into pandas \"Dataframe\" structure."
   ]
  },
  {
   "cell_type": "code",
   "execution_count": 1,
   "metadata": {
    "collapsed": false
   },
   "outputs": [],
   "source": [
    "\"\"\"Load CSVs into a pandas dataframe\"\"\"\n",
    "\n",
    "#load various imports needed for the task\n",
    "import pandas as pd\n",
    "from matplotlib import pyplot as plt\n",
    "import numpy as np\n",
    "\n",
    "#Import CSVs using pandas read_csv method\n",
    "counts_df = pd.read_csv(\"counts.csv\")\n",
    "patients_df = pd.read_csv(\"patientdata.csv\")"
   ]
  },
  {
   "cell_type": "markdown",
   "metadata": {},
   "source": [
    "Let us quickly display the first 3 rows of each dataframe, to check they were read correctly:"
   ]
  },
  {
   "cell_type": "code",
   "execution_count": 2,
   "metadata": {
    "collapsed": false
   },
   "outputs": [
    {
     "data": {
      "text/html": [
       "<div>\n",
       "<table border=\"1\" class=\"dataframe\">\n",
       "  <thead>\n",
       "    <tr style=\"text-align: right;\">\n",
       "      <th></th>\n",
       "      <th>GivenName</th>\n",
       "      <th>Surname</th>\n",
       "      <th>count</th>\n",
       "    </tr>\n",
       "  </thead>\n",
       "  <tbody>\n",
       "    <tr>\n",
       "      <th>0</th>\n",
       "      <td>Holly</td>\n",
       "      <td>Humphries</td>\n",
       "      <td>531</td>\n",
       "    </tr>\n",
       "    <tr>\n",
       "      <th>1</th>\n",
       "      <td>Robert</td>\n",
       "      <td>Hobbs</td>\n",
       "      <td>750</td>\n",
       "    </tr>\n",
       "    <tr>\n",
       "      <th>2</th>\n",
       "      <td>Charlie</td>\n",
       "      <td>Kemp</td>\n",
       "      <td>738</td>\n",
       "    </tr>\n",
       "  </tbody>\n",
       "</table>\n",
       "</div>"
      ],
      "text/plain": [
       "  GivenName    Surname  count\n",
       "0     Holly  Humphries    531\n",
       "1    Robert      Hobbs    750\n",
       "2   Charlie       Kemp    738"
      ]
     },
     "execution_count": 2,
     "metadata": {},
     "output_type": "execute_result"
    }
   ],
   "source": [
    "counts_df.head(3)"
   ]
  },
  {
   "cell_type": "code",
   "execution_count": 3,
   "metadata": {
    "collapsed": false
   },
   "outputs": [
    {
     "data": {
      "text/html": [
       "<div>\n",
       "<table border=\"1\" class=\"dataframe\">\n",
       "  <thead>\n",
       "    <tr style=\"text-align: right;\">\n",
       "      <th></th>\n",
       "      <th>GivenName</th>\n",
       "      <th>Surname</th>\n",
       "      <th>Gender</th>\n",
       "      <th>Age</th>\n",
       "      <th>BloodType</th>\n",
       "      <th>Weight</th>\n",
       "      <th>Height</th>\n",
       "      <th>Latitude</th>\n",
       "      <th>Longitude</th>\n",
       "    </tr>\n",
       "  </thead>\n",
       "  <tbody>\n",
       "    <tr>\n",
       "      <th>0</th>\n",
       "      <td>Anthony</td>\n",
       "      <td>Wheeler</td>\n",
       "      <td>male</td>\n",
       "      <td>28.0</td>\n",
       "      <td>O-</td>\n",
       "      <td>65.8</td>\n",
       "      <td>188</td>\n",
       "      <td>51.144501</td>\n",
       "      <td>1.291749</td>\n",
       "    </tr>\n",
       "    <tr>\n",
       "      <th>1</th>\n",
       "      <td>Evie</td>\n",
       "      <td>Read</td>\n",
       "      <td>female</td>\n",
       "      <td>50.0</td>\n",
       "      <td>O+</td>\n",
       "      <td>81.6</td>\n",
       "      <td>162</td>\n",
       "      <td>51.397614</td>\n",
       "      <td>-1.847534</td>\n",
       "    </tr>\n",
       "    <tr>\n",
       "      <th>2</th>\n",
       "      <td>Jasmine</td>\n",
       "      <td>Newman</td>\n",
       "      <td>female</td>\n",
       "      <td>67.0</td>\n",
       "      <td>O+</td>\n",
       "      <td>71.1</td>\n",
       "      <td>170</td>\n",
       "      <td>50.360648</td>\n",
       "      <td>-4.238866</td>\n",
       "    </tr>\n",
       "  </tbody>\n",
       "</table>\n",
       "</div>"
      ],
      "text/plain": [
       "  GivenName  Surname  Gender   Age BloodType  Weight  Height   Latitude  \\\n",
       "0   Anthony  Wheeler    male  28.0        O-    65.8     188  51.144501   \n",
       "1      Evie     Read  female  50.0        O+    81.6     162  51.397614   \n",
       "2   Jasmine   Newman  female  67.0        O+    71.1     170  50.360648   \n",
       "\n",
       "   Longitude  \n",
       "0   1.291749  \n",
       "1  -1.847534  \n",
       "2  -4.238866  "
      ]
     },
     "execution_count": 3,
     "metadata": {},
     "output_type": "execute_result"
    }
   ],
   "source": [
    "patients_df.head(3)"
   ]
  },
  {
   "cell_type": "markdown",
   "metadata": {},
   "source": [
    "The first task is to remove non-unique entries in each dataframe, based on a combination of the first and last names. This could be implemented relatively simply, but pandas already has a method, which is more than likely optimized for their data structure, so lets use that."
   ]
  },
  {
   "cell_type": "code",
   "execution_count": 4,
   "metadata": {
    "collapsed": false
   },
   "outputs": [],
   "source": [
    "#store the duplicated values in an array, as they will be written to text\n",
    "counts_duplicated_df = counts_df[counts_df.duplicated(['GivenName', 'Surname'])]\n",
    "patients_duplicated_df = patients_df[patients_df.duplicated(['GivenName', 'Surname'])]\n",
    "\n",
    "#method to concatonate first and last name for a given dataframe\n",
    "def name_list(dataframe):\n",
    "    return [row.GivenName + \" \" + row.Surname for index, row in dataframe.iterrows()]\n",
    "\n",
    "#Assert the same rows in each dataframe are duplicated\n",
    "assert set(name_list(counts_duplicated_df)) == set(name_list(patients_duplicated_df))\n",
    "\n",
    "#Store the lengths so we can later confirm the rows were removed correctly\n",
    "original_length = counts_df.shape[0]\n",
    "duplicated_length = counts_duplicated_df.shape[0]\n",
    "\n",
    "counts_df = counts_df.drop(counts_duplicated_df.index.values)\n",
    "patients_df = patients_df.drop(patients_duplicated_df.index.values)\n",
    "assert original_length - duplicated_length == counts_df.shape[0]"
   ]
  },
  {
   "cell_type": "code",
   "execution_count": 5,
   "metadata": {
    "collapsed": false
   },
   "outputs": [
    {
     "name": "stdout",
     "output_type": "stream",
     "text": [
      "Succesfully saved to: 'part1.txt'\n"
     ]
    }
   ],
   "source": [
    "#Now lets save the duplicated list to text\n",
    "def save_txt(X, filename):\n",
    "    with open(filename, \"w\") as txt:\n",
    "        [txt.write(str(xi) + \"\\n\") for xi in X]\n",
    "    print (\"Succesfully saved to: \\'{}\\'\".format(filename))\n",
    "\n",
    "save_txt(name_list(counts_duplicated_df), \"part1.txt\")"
   ]
  },
  {
   "cell_type": "code",
   "execution_count": 6,
   "metadata": {
    "collapsed": false
   },
   "outputs": [
    {
     "data": {
      "text/html": [
       "<div>\n",
       "<table border=\"1\" class=\"dataframe\">\n",
       "  <thead>\n",
       "    <tr style=\"text-align: right;\">\n",
       "      <th></th>\n",
       "      <th>GivenName</th>\n",
       "      <th>Surname</th>\n",
       "      <th>count</th>\n",
       "      <th>Gender</th>\n",
       "      <th>Age</th>\n",
       "      <th>BloodType</th>\n",
       "      <th>Weight</th>\n",
       "      <th>Height</th>\n",
       "      <th>Latitude</th>\n",
       "      <th>Longitude</th>\n",
       "    </tr>\n",
       "  </thead>\n",
       "  <tbody>\n",
       "    <tr>\n",
       "      <th>0</th>\n",
       "      <td>Holly</td>\n",
       "      <td>Humphries</td>\n",
       "      <td>531</td>\n",
       "      <td>female</td>\n",
       "      <td>63.0</td>\n",
       "      <td>O+</td>\n",
       "      <td>61.4</td>\n",
       "      <td>167</td>\n",
       "      <td>50.401616</td>\n",
       "      <td>-4.113327</td>\n",
       "    </tr>\n",
       "    <tr>\n",
       "      <th>1</th>\n",
       "      <td>Robert</td>\n",
       "      <td>Hobbs</td>\n",
       "      <td>750</td>\n",
       "      <td>male</td>\n",
       "      <td>53.0</td>\n",
       "      <td>B+</td>\n",
       "      <td>69.5</td>\n",
       "      <td>176</td>\n",
       "      <td>57.315848</td>\n",
       "      <td>-2.764894</td>\n",
       "    </tr>\n",
       "    <tr>\n",
       "      <th>2</th>\n",
       "      <td>Charlie</td>\n",
       "      <td>Kemp</td>\n",
       "      <td>738</td>\n",
       "      <td>male</td>\n",
       "      <td>NaN</td>\n",
       "      <td>A+</td>\n",
       "      <td>64.0</td>\n",
       "      <td>184</td>\n",
       "      <td>54.833653</td>\n",
       "      <td>-3.777728</td>\n",
       "    </tr>\n",
       "  </tbody>\n",
       "</table>\n",
       "</div>"
      ],
      "text/plain": [
       "  GivenName    Surname  count  Gender   Age BloodType  Weight  Height  \\\n",
       "0     Holly  Humphries    531  female  63.0        O+    61.4     167   \n",
       "1    Robert      Hobbs    750    male  53.0        B+    69.5     176   \n",
       "2   Charlie       Kemp    738    male   NaN        A+    64.0     184   \n",
       "\n",
       "    Latitude  Longitude  \n",
       "0  50.401616  -4.113327  \n",
       "1  57.315848  -2.764894  \n",
       "2  54.833653  -3.777728  "
      ]
     },
     "execution_count": 6,
     "metadata": {},
     "output_type": "execute_result"
    }
   ],
   "source": [
    "#Two approaches, built in method for merging two dataframes, or sort each then concat.\n",
    "#Use pandas method for efficiency\n",
    "\n",
    "joined_df = pd.merge(counts_df, patients_df, on=['GivenName', 'Surname'])\n",
    "\n",
    "#check\n",
    "joined_df.head(3)"
   ]
  },
  {
   "cell_type": "code",
   "execution_count": 7,
   "metadata": {
    "collapsed": false
   },
   "outputs": [
    {
     "name": "stdout",
     "output_type": "stream",
     "text": [
      "Succesfully saved to: 'part2.txt'\n"
     ]
    }
   ],
   "source": [
    "#save number of rows to txt file\n",
    "save_txt([joined_df.shape[0]], \"part2.txt\")"
   ]
  },
  {
   "cell_type": "code",
   "execution_count": 8,
   "metadata": {
    "collapsed": false
   },
   "outputs": [],
   "source": [
    "columns_withnan = joined_df.columns[joined_df.isnull().any()].tolist()\n",
    "rows_withnan = int(np.sum(pd.isnull(joined_df).sum()))"
   ]
  },
  {
   "cell_type": "code",
   "execution_count": 9,
   "metadata": {
    "collapsed": false
   },
   "outputs": [
    {
     "data": {
      "text/plain": [
       "17"
      ]
     },
     "execution_count": 9,
     "metadata": {},
     "output_type": "execute_result"
    }
   ],
   "source": [
    "rows_withnan"
   ]
  },
  {
   "cell_type": "code",
   "execution_count": 10,
   "metadata": {
    "collapsed": false
   },
   "outputs": [
    {
     "name": "stdout",
     "output_type": "stream",
     "text": [
      "Succesfully saved to: 'part3.txt'\n"
     ]
    }
   ],
   "source": [
    "save_txt([\"Following columns have missing values: {}\".format(columns_withnan),\n",
    "         \"{} rows with missing values\".format(rows_withnan)], \"part3.txt\")"
   ]
  },
  {
   "cell_type": "code",
   "execution_count": 11,
   "metadata": {
    "collapsed": false
   },
   "outputs": [],
   "source": [
    "joined_df = joined_df.dropna()\n",
    "#confirm size is now 981\n",
    "joined_df.shape[0]\n",
    "\n",
    "#save as csv - use pandas function\n",
    "joined_df.to_csv(\"part4.csv\")"
   ]
  },
  {
   "cell_type": "code",
   "execution_count": 12,
   "metadata": {
    "collapsed": false
   },
   "outputs": [
    {
     "data": {
      "text/html": [
       "<div>\n",
       "<table border=\"1\" class=\"dataframe\">\n",
       "  <thead>\n",
       "    <tr style=\"text-align: right;\">\n",
       "      <th></th>\n",
       "      <th>GivenName</th>\n",
       "      <th>Surname</th>\n",
       "      <th>count</th>\n",
       "      <th>Gender</th>\n",
       "      <th>Age</th>\n",
       "      <th>BloodType</th>\n",
       "      <th>Weight</th>\n",
       "      <th>Height</th>\n",
       "      <th>Latitude</th>\n",
       "      <th>Longitude</th>\n",
       "    </tr>\n",
       "  </thead>\n",
       "  <tbody>\n",
       "    <tr>\n",
       "      <th>0</th>\n",
       "      <td>Holly</td>\n",
       "      <td>Humphries</td>\n",
       "      <td>531</td>\n",
       "      <td>0</td>\n",
       "      <td>63.0</td>\n",
       "      <td>6</td>\n",
       "      <td>61.4</td>\n",
       "      <td>167</td>\n",
       "      <td>50.401616</td>\n",
       "      <td>-4.113327</td>\n",
       "    </tr>\n",
       "    <tr>\n",
       "      <th>1</th>\n",
       "      <td>Robert</td>\n",
       "      <td>Hobbs</td>\n",
       "      <td>750</td>\n",
       "      <td>1</td>\n",
       "      <td>53.0</td>\n",
       "      <td>4</td>\n",
       "      <td>69.5</td>\n",
       "      <td>176</td>\n",
       "      <td>57.315848</td>\n",
       "      <td>-2.764894</td>\n",
       "    </tr>\n",
       "    <tr>\n",
       "      <th>3</th>\n",
       "      <td>Joshua</td>\n",
       "      <td>Willis</td>\n",
       "      <td>651</td>\n",
       "      <td>1</td>\n",
       "      <td>49.0</td>\n",
       "      <td>6</td>\n",
       "      <td>67.5</td>\n",
       "      <td>184</td>\n",
       "      <td>50.801275</td>\n",
       "      <td>0.225528</td>\n",
       "    </tr>\n",
       "  </tbody>\n",
       "</table>\n",
       "</div>"
      ],
      "text/plain": [
       "  GivenName    Surname  count  Gender   Age  BloodType  Weight  Height  \\\n",
       "0     Holly  Humphries    531       0  63.0          6    61.4     167   \n",
       "1    Robert      Hobbs    750       1  53.0          4    69.5     176   \n",
       "3    Joshua     Willis    651       1  49.0          6    67.5     184   \n",
       "\n",
       "    Latitude  Longitude  \n",
       "0  50.401616  -4.113327  \n",
       "1  57.315848  -2.764894  \n",
       "3  50.801275   0.225528  "
      ]
     },
     "execution_count": 12,
     "metadata": {},
     "output_type": "execute_result"
    }
   ],
   "source": [
    "#convert categorical variables to discrete integers\n",
    "joined_df['Gender'] = joined_df['Gender'].astype('category')\n",
    "joined_df['BloodType'] = joined_df['BloodType'].astype('category')\n",
    "\n",
    "categorical_columns = joined_df.select_dtypes(['category']).columns\n",
    "\n",
    "joined_df[categorical_columns] = joined_df[categorical_columns].apply(lambda x: x.cat.codes)\n",
    "\n",
    "#Check \n",
    "joined_df.head(3)"
   ]
  },
  {
   "cell_type": "code",
   "execution_count": 14,
   "metadata": {
    "collapsed": false
   },
   "outputs": [
    {
     "data": {
      "image/png": "[encoded data removed]",
      "text/plain": [
       "<matplotlib.figure.Figure at 0x1d7ade65668>"
      ]
     },
     "metadata": {},
     "output_type": "display_data"
    }
   ],
   "source": [
    "%matplotlib inline\n",
    "plt.rcParams['figure.figsize'] = 12, 10\n",
    "#plot each feature with target \"count\"\n",
    "joined_mat = joined_df.values\n",
    "for i in range(3, joined_mat.shape[1]):\n",
    "    ax = plt.subplot(4, 3, i - 2)\n",
    "    ax.set_title(joined_df.columns.values[i])\n",
    "    ax.scatter(joined_mat[:, i], joined_mat[:, 2])"
   ]
  },
  {
   "cell_type": "markdown",
   "metadata": {
    "collapsed": true
   },
   "source": [
    "Obviously there could be some multivariate correlation, however these are going to be ignored for now, a regressor will be trained to get an initial reading of the error. Ultimately the error will be limited by the noise in the data."
   ]
  },
  {
   "cell_type": "code",
   "execution_count": 23,
   "metadata": {
    "collapsed": false
   },
   "outputs": [
    {
     "name": "stdout",
     "output_type": "stream",
     "text": [
      "Training Residual: 0.77668700735868, Testing Residual: 0.7887942706670034\n"
     ]
    },
    {
     "name": "stderr",
     "output_type": "stream",
     "text": [
      "G:\\Users\\Bradley\\Anaconda3\\lib\\site-packages\\ipykernel\\__main__.py:16: VisibleDeprecationWarning: using a non-integer number instead of an integer will result in an error in the future\n",
      "G:\\Users\\Bradley\\Anaconda3\\lib\\site-packages\\ipykernel\\__main__.py:17: VisibleDeprecationWarning: using a non-integer number instead of an integer will result in an error in the future\n"
     ]
    }
   ],
   "source": [
    "from sklearn.linear_model import LinearRegression\n",
    "\"\"\"\n",
    "As the task said linear regression I selected the standard SKlearn LinearRegression\n",
    "Would have used an SVR, even though they're technically linear their kernel transformation\n",
    "produces 'non-linear' results.\n",
    "\n",
    "Ideally an RBF would have been used, with a gaussian kernel, but again, not linear.\n",
    "\n",
    "Apologies if you wanted me to implement something myself, I would be happy to if you ask\n",
    "\"\"\"\n",
    "\n",
    "#Shuffle the data\n",
    "np.random.shuffle(joined_mat)\n",
    "\n",
    "#split data into training/test sets\n",
    "testing_data = joined_mat[:joined_mat.shape[0] * 0.2]\n",
    "training_data = joined_mat[joined_mat.shape[0] * 0.2:]\n",
    "\n",
    "#r2 error calc - I know sklearn's regressor has this built in, I just wrote it before I remembered :(\n",
    "def r2_error(pred_y, true_y):\n",
    "    return 1 - (np.sum((true_y - pred_y) ** 2) / np.sum((true_y - np.mean(true_y)) ** 2))\n",
    "\n",
    "model = LinearRegression(fit_intercept=True).fit(training_data[:, 3:], training_data[:, 2])\n",
    "r2_training = r2_error(model.predict(training_data[:, 3:]) , training_data[:, 2])\n",
    "r2_testing = r2_error(model.predict(testing_data[:, 3:]) , testing_data[:, 2])\n",
    "\n",
    "print(\"Training Residual: {}, Testing Residual: {}\".format(r2_training, r2_testing))"
   ]
  },
  {
   "cell_type": "code",
   "execution_count": null,
   "metadata": {
    "collapsed": true
   },
   "outputs": [],
   "source": []
  }
 ],
 "metadata": {
  "anaconda-cloud": {},
  "kernelspec": {
   "display_name": "Python 3",
   "language": "python",
   "name": "python3"
  },
  "language_info": {
   "codemirror_mode": {
    "name": "ipython",
    "version": 3
   },
   "file_extension": ".py",
   "mimetype": "text/x-python",
   "name": "python",
   "nbconvert_exporter": "python",
   "pygments_lexer": "ipython3",
   "version": "3.6.0"
  }
 },
 "nbformat": 4,
 "nbformat_minor": 0
}
